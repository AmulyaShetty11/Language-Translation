{
 "cells": [
  {
   "cell_type": "code",
   "execution_count": null,
   "id": "c9df0cba-fc89-4c2b-a377-8892958d715a",
   "metadata": {},
   "outputs": [],
   "source": [
    "!pip install ibm_watson"
   ]
  },
  {
   "cell_type": "markdown",
   "id": "e20d0607-14a7-4b37-b9c4-e6302ec53449",
   "metadata": {},
   "source": [
    "# 1. Authenticate"
   ]
  },
  {
   "cell_type": "code",
   "execution_count": 2,
   "id": "b2fdf481-0acb-4557-ad48-19f4ff39ca51",
   "metadata": {},
   "outputs": [],
   "source": [
    "apikey = 'tHvE5fcbhg9s7NrPelkFbcL3kLYMlBvobcHi5n0iMBfX'\n",
    "url = 'https://api.au-syd.language-translator.watson.cloud.ibm.com/instances/7aefbb24-641a-4953-a07e-380e39d92963'"
   ]
  },
  {
   "cell_type": "code",
   "execution_count": 3,
   "id": "09ed3367-9b75-4e77-8fa1-550a3e26aec7",
   "metadata": {},
   "outputs": [],
   "source": [
    "# import dependencies\n",
    "from ibm_watson import LanguageTranslatorV3\n",
    "from ibm_cloud_sdk_core.authenticators import IAMAuthenticator"
   ]
  },
  {
   "cell_type": "code",
   "execution_count": 4,
   "id": "858fb154-6bff-44d8-9bba-78e37dc8dc01",
   "metadata": {},
   "outputs": [
    {
     "name": "stdout",
     "output_type": "stream",
     "text": [
      "\n",
      "            On 10 June 2023, IBM announced the deprecation of the Natural Language Translator service.\n",
      "            The service will no longer be available from 8 August 2022. As of 10 June 2024, the service will reach its End of Support\n",
      "            date. As of 10 December 2024, the service will be withdrawn entirely and will no longer be\n",
      "            available to any customers.\n",
      "            \n"
     ]
    }
   ],
   "source": [
    "#setup service\n",
    "authenticator = IAMAuthenticator(apikey)\n",
    "lt = LanguageTranslatorV3(version='2018-05-01', authenticator=authenticator)\n",
    "lt.set_service_url(url)"
   ]
  },
  {
   "cell_type": "markdown",
   "id": "25244c26-14dc-4870-a8e9-d505a5c53c2a",
   "metadata": {},
   "source": [
    "# 2. Translation"
   ]
  },
  {
   "cell_type": "code",
   "execution_count": 8,
   "id": "b6018d3f-b00b-4f62-8a22-95d3bd11ebf6",
   "metadata": {},
   "outputs": [],
   "source": [
    "translation = lt.translate(text='I am happy', model_id='en-hi').get_result()"
   ]
  },
  {
   "cell_type": "code",
   "execution_count": 9,
   "id": "12b22941-d364-4873-9cb3-60422e467637",
   "metadata": {},
   "outputs": [
    {
     "data": {
      "text/plain": [
       "{'translations': [{'translation': 'मैं खुश हूँ'}],\n",
       " 'word_count': 3,\n",
       " 'character_count': 10}"
      ]
     },
     "execution_count": 9,
     "metadata": {},
     "output_type": "execute_result"
    }
   ],
   "source": [
    "translation"
   ]
  },
  {
   "cell_type": "code",
   "execution_count": 10,
   "id": "a57f2464-a24c-4aee-8bba-e9aff6440d4a",
   "metadata": {},
   "outputs": [
    {
     "data": {
      "text/plain": [
       "'मैं खुश हूँ'"
      ]
     },
     "execution_count": 10,
     "metadata": {},
     "output_type": "execute_result"
    }
   ],
   "source": [
    "translation['translations'][0]['translation']"
   ]
  },
  {
   "cell_type": "markdown",
   "id": "e5066be5-097e-4c89-8a8b-9732769554f2",
   "metadata": {},
   "source": [
    "# 3. Identify languages"
   ]
  },
  {
   "cell_type": "code",
   "execution_count": 15,
   "id": "8bfb7c44-238d-4d82-87da-66db727f4f34",
   "metadata": {},
   "outputs": [],
   "source": [
    "language = lt.identify('मैं खुश हूँ').get_result()"
   ]
  },
  {
   "cell_type": "code",
   "execution_count": 16,
   "id": "59d1e02c-77b1-404f-88c2-910dbb241811",
   "metadata": {},
   "outputs": [
    {
     "data": {
      "text/plain": [
       "{'languages': [{'language': 'hi', 'confidence': 0.9883922573103056},\n",
       "  {'language': 'ne', 'confidence': 0.006882117203170057},\n",
       "  {'language': 'mr', 'confidence': 0.0035605471599099926},\n",
       "  {'language': 'en', 'confidence': 3.815591886176932e-05},\n",
       "  {'language': 'zh', 'confidence': 2.8721215503862543e-05},\n",
       "  {'language': 'zh-TW', 'confidence': 2.4005094224408096e-05},\n",
       "  {'language': 'ar', 'confidence': 2.290388667285273e-05},\n",
       "  {'language': 'es', 'confidence': 2.243264366475697e-05},\n",
       "  {'language': 'ru', 'confidence': 1.894200028625129e-05},\n",
       "  {'language': 'ms', 'confidence': 1.850151726562914e-05},\n",
       "  {'language': 'pt', 'confidence': 1.828220734781818e-05},\n",
       "  {'language': 'fr', 'confidence': 1.7715291985803576e-05},\n",
       "  {'language': 'de', 'confidence': 1.7479055282006223e-05},\n",
       "  {'language': 'bn', 'confidence': 1.725032803085129e-05},\n",
       "  {'language': 'ja', 'confidence': 1.6646074821220765e-05},\n",
       "  {'language': 'fa', 'confidence': 1.625234698155851e-05},\n",
       "  {'language': 'vi', 'confidence': 1.5827859154422644e-05},\n",
       "  {'language': 'ko', 'confidence': 1.579709916694903e-05},\n",
       "  {'language': 'pa-PK', 'confidence': 1.578110397346275e-05},\n",
       "  {'language': 'tl', 'confidence': 1.5718353599016577e-05},\n",
       "  {'language': 'th', 'confidence': 1.5718353599016577e-05},\n",
       "  {'language': 'tr', 'confidence': 1.5671598418056684e-05},\n",
       "  {'language': 'it', 'confidence': 1.5671598418056684e-05},\n",
       "  {'language': 'ur', 'confidence': 1.5514107282191785e-05},\n",
       "  {'language': 'my', 'confidence': 1.538860653329944e-05},\n",
       "  {'language': 'uk', 'confidence': 1.527787057839443e-05},\n",
       "  {'language': 'pl', 'confidence': 1.5247110590920819e-05},\n",
       "  {'language': 'pa', 'confidence': 1.5218683259032952e-05},\n",
       "  {'language': 'ro', 'confidence': 1.5010873887123466e-05},\n",
       "  {'language': 'nl', 'confidence': 1.4994878693637184e-05},\n",
       "  {'language': 'az', 'confidence': 1.4994878693637184e-05},\n",
       "  {'language': 'ps', 'confidence': 1.4978883500150907e-05},\n",
       "  {'language': 'ku', 'confidence': 1.4978883500150907e-05},\n",
       "  {'language': 'ta', 'confidence': 1.4952230768301256e-05},\n",
       "  {'language': 'si', 'confidence': 1.4869377944744843e-05},\n",
       "  {'language': 'km', 'confidence': 1.485338275125856e-05},\n",
       "  {'language': 'te', 'confidence': 1.4815276442256108e-05},\n",
       "  {'language': 'hu', 'confidence': 1.480662757029867e-05},\n",
       "  {'language': 'el', 'confidence': 1.480662757029867e-05},\n",
       "  {'language': 'so', 'confidence': 1.479063237681239e-05},\n",
       "  {'language': 'af', 'confidence': 1.4774637183326111e-05},\n",
       "  {'language': 'kk', 'confidence': 1.475864198983983e-05},\n",
       "  {'language': 'ht', 'confidence': 1.475864198983983e-05},\n",
       "  {'language': 'cs', 'confidence': 1.475864198983983e-05},\n",
       "  {'language': 'bg', 'confidence': 1.475864198983983e-05},\n",
       "  {'language': 'sv', 'confidence': 1.4727882002366218e-05},\n",
       "  {'language': 'sr', 'confidence': 1.471188680887994e-05},\n",
       "  {'language': 'ca', 'confidence': 1.471188680887994e-05},\n",
       "  {'language': 'sk', 'confidence': 1.4681126821406325e-05},\n",
       "  {'language': 'hr', 'confidence': 1.4681126821406325e-05},\n",
       "  {'language': 'sq', 'confidence': 1.4665131627920048e-05},\n",
       "  {'language': 'hy', 'confidence': 1.4665131627920048e-05},\n",
       "  {'language': 'fi', 'confidence': 1.4665131627920048e-05},\n",
       "  {'language': 'da', 'confidence': 1.4665131627920048e-05},\n",
       "  {'language': 'be', 'confidence': 1.4665131627920048e-05},\n",
       "  {'language': 'nb', 'confidence': 1.4649136434433766e-05},\n",
       "  {'language': 'mn', 'confidence': 1.4649136434433766e-05},\n",
       "  {'language': 'lo', 'confidence': 1.4649136434433766e-05},\n",
       "  {'language': 'ky', 'confidence': 1.4649136434433766e-05},\n",
       "  {'language': 'he', 'confidence': 1.4649136434433766e-05},\n",
       "  {'language': 'ka', 'confidence': 1.463314124094749e-05},\n",
       "  {'language': 'sl', 'confidence': 1.4602381253473875e-05},\n",
       "  {'language': 'lv', 'confidence': 1.4602381253473875e-05},\n",
       "  {'language': 'ba', 'confidence': 1.4602381253473875e-05},\n",
       "  {'language': 'mt', 'confidence': 1.4586386059987595e-05},\n",
       "  {'language': 'ga', 'confidence': 1.4586386059987595e-05},\n",
       "  {'language': 'eu', 'confidence': 1.4586386059987595e-05},\n",
       "  {'language': 'et', 'confidence': 1.4586386059987595e-05},\n",
       "  {'language': 'eo', 'confidence': 1.4586386059987595e-05},\n",
       "  {'language': 'cy', 'confidence': 1.4586386059987595e-05},\n",
       "  {'language': 'cv', 'confidence': 1.4586386059987595e-05},\n",
       "  {'language': 'is', 'confidence': 1.4575312464497095e-05},\n",
       "  {'language': 'ml', 'confidence': 1.3852786763854238e-05},\n",
       "  {'language': 'gu', 'confidence': 1.3499580516726026e-05},\n",
       "  {'language': 'lt', 'confidence': 1.3199843830547451e-05},\n",
       "  {'language': 'nn', 'confidence': 1.2538881699838607e-05}]}"
      ]
     },
     "execution_count": 16,
     "metadata": {},
     "output_type": "execute_result"
    }
   ],
   "source": [
    "language"
   ]
  },
  {
   "cell_type": "markdown",
   "id": "2a76a819-5330-4d89-bf44-2cfd071fbf6e",
   "metadata": {},
   "source": [
    "# 4. Travel Guide"
   ]
  },
  {
   "cell_type": "code",
   "execution_count": 19,
   "id": "affa6169-c826-4481-8958-ab27a3bfd8e8",
   "metadata": {},
   "outputs": [],
   "source": [
    "ttsapikey = 'oa5oO2MloPdMcATWbp0Yx_lBgKUUXUl07ohBWIG3JuvV'\n",
    "ttsurl = 'https://api.au-syd.text-to-speech.watson.cloud.ibm.com/instances/5cfe4d13-2dd2-4bd6-a487-7af192c0c7e9'"
   ]
  },
  {
   "cell_type": "code",
   "execution_count": 20,
   "id": "809dcb67-743f-4419-8657-595159a7e313",
   "metadata": {},
   "outputs": [],
   "source": [
    "from ibm_watson import TextToSpeechV1"
   ]
  },
  {
   "cell_type": "code",
   "execution_count": 21,
   "id": "e3429f7e-55c5-4353-a0a6-b0f1e557bee1",
   "metadata": {},
   "outputs": [],
   "source": [
    "# Authenticate \n",
    "ttsauthenticator = IAMAuthenticator(ttsapikey)\n",
    "tts = TextToSpeechV1(authenticator=ttsauthenticator)\n",
    "tts.set_service_url(ttsurl)"
   ]
  },
  {
   "cell_type": "code",
   "execution_count": 32,
   "id": "e8ae0587-8e39-4dc8-ab39-77ade93162a9",
   "metadata": {},
   "outputs": [],
   "source": [
    "translation = lt.translate(text= 'I am very happy to see you here today!',model_id ='en-de').get_result()"
   ]
  },
  {
   "cell_type": "code",
   "execution_count": 33,
   "id": "a9f9f286-8e31-4563-863b-ef6c275222c8",
   "metadata": {},
   "outputs": [
    {
     "data": {
      "text/plain": [
       "'Ich freue mich sehr, Sie heute hier zu sehen!'"
      ]
     },
     "execution_count": 33,
     "metadata": {},
     "output_type": "execute_result"
    }
   ],
   "source": [
    "text = translation['translations'][0]['translation']\n",
    "text"
   ]
  },
  {
   "cell_type": "code",
   "execution_count": 35,
   "id": "85fa364d-64d0-4763-802e-402a86bf6c29",
   "metadata": {},
   "outputs": [],
   "source": [
    "with open('./happy.mp3','wb') as audio_file:\n",
    "    res = tts.synthesize(text, accept='audio/mp3', voice='de-DE_BirgitV3Voice').get_result()\n",
    "    audio_file.write(res.content)"
   ]
  },
  {
   "cell_type": "code",
   "execution_count": null,
   "id": "31e5c4ee-6ae3-4ae1-a29e-4f15a2e2f743",
   "metadata": {},
   "outputs": [],
   "source": []
  }
 ],
 "metadata": {
  "kernelspec": {
   "display_name": "Python 3 (ipykernel)",
   "language": "python",
   "name": "python3"
  },
  "language_info": {
   "codemirror_mode": {
    "name": "ipython",
    "version": 3
   },
   "file_extension": ".py",
   "mimetype": "text/x-python",
   "name": "python",
   "nbconvert_exporter": "python",
   "pygments_lexer": "ipython3",
   "version": "3.12.0"
  }
 },
 "nbformat": 4,
 "nbformat_minor": 5
}
